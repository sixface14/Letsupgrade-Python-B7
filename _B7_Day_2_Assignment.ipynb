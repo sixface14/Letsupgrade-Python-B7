{
  "nbformat": 4,
  "nbformat_minor": 0,
  "metadata": {
    "kernelspec": {
      "display_name": "Python 3",
      "language": "python",
      "name": "python3"
    },
    "language_info": {
      "codemirror_mode": {
        "name": "ipython",
        "version": 3
      },
      "file_extension": ".py",
      "mimetype": "text/x-python",
      "name": "python",
      "nbconvert_exporter": "python",
      "pygments_lexer": "ipython3",
      "version": "3.8.3"
    },
    "colab": {
      "name": "_B7 Day-2 Assignment.ipynb",
      "provenance": [],
      "include_colab_link": true
    }
  },
  "cells": [
    {
      "cell_type": "markdown",
      "metadata": {
        "id": "view-in-github",
        "colab_type": "text"
      },
      "source": [
        "<a href=\"https://colab.research.google.com/github/sixface14/Letsupgrade-Python-B7/blob/master/_B7_Day_2_Assignment.ipynb\" target=\"_parent\"><img src=\"https://colab.research.google.com/assets/colab-badge.svg\" alt=\"Open In Colab\"/></a>"
      ]
    },
    {
      "cell_type": "markdown",
      "metadata": {
        "id": "GaY--4BlPr9s",
        "colab_type": "text"
      },
      "source": [
        "# List (default functions)"
      ]
    },
    {
      "cell_type": "code",
      "metadata": {
        "id": "IXrqsXj2Pr9u",
        "colab_type": "code",
        "colab": {},
        "outputId": "44349e4a-1f13-4f13-ffca-02bde12130c1"
      },
      "source": [
        "six=[10,5.6,\"sixface\",99.0,5.6]\n",
        "six"
      ],
      "execution_count": null,
      "outputs": [
        {
          "output_type": "execute_result",
          "data": {
            "text/plain": [
              "[10, 5.6, 'sixface', 99.0, 5.6]"
            ]
          },
          "metadata": {
            "tags": []
          },
          "execution_count": 1
        }
      ]
    },
    {
      "cell_type": "code",
      "metadata": {
        "id": "bLxsKeoQPr9y",
        "colab_type": "code",
        "colab": {},
        "outputId": "af3f436f-c12a-4d3c-b4dc-e4a9c00f703e"
      },
      "source": [
        "six.append(\"don\")\n",
        "six"
      ],
      "execution_count": null,
      "outputs": [
        {
          "output_type": "execute_result",
          "data": {
            "text/plain": [
              "[10, 5.6, 'sixface', 99.0, 5.6, 'don']"
            ]
          },
          "metadata": {
            "tags": []
          },
          "execution_count": 2
        }
      ]
    },
    {
      "cell_type": "code",
      "metadata": {
        "id": "k1EpYcSyPr90",
        "colab_type": "code",
        "colab": {},
        "outputId": "582d5de9-7dee-4188-c43c-aea65d7c46d3"
      },
      "source": [
        "six.count(5.6)"
      ],
      "execution_count": null,
      "outputs": [
        {
          "output_type": "execute_result",
          "data": {
            "text/plain": [
              "2"
            ]
          },
          "metadata": {
            "tags": []
          },
          "execution_count": 3
        }
      ]
    },
    {
      "cell_type": "code",
      "metadata": {
        "scrolled": true,
        "id": "wdL46DRYPr93",
        "colab_type": "code",
        "colab": {},
        "outputId": "9cbc2e2b-4326-4d09-b344-05f16e107f30"
      },
      "source": [
        "six.remove(5.6)\n",
        "six"
      ],
      "execution_count": null,
      "outputs": [
        {
          "output_type": "execute_result",
          "data": {
            "text/plain": [
              "[10, 'sixface', 99.0, 5.6, 'don']"
            ]
          },
          "metadata": {
            "tags": []
          },
          "execution_count": 4
        }
      ]
    },
    {
      "cell_type": "code",
      "metadata": {
        "id": "3sUd5CW1Pr95",
        "colab_type": "code",
        "colab": {},
        "outputId": "63b873cd-37e9-40d1-8d35-fb6c6ee25d15"
      },
      "source": [
        "six.index(5.6)"
      ],
      "execution_count": null,
      "outputs": [
        {
          "output_type": "execute_result",
          "data": {
            "text/plain": [
              "3"
            ]
          },
          "metadata": {
            "tags": []
          },
          "execution_count": 5
        }
      ]
    },
    {
      "cell_type": "code",
      "metadata": {
        "id": "zykARtESPr98",
        "colab_type": "code",
        "colab": {},
        "outputId": "d594b0aa-4702-4fc2-d0b7-531ae91f819a"
      },
      "source": [
        "six.reverse()\n",
        "six"
      ],
      "execution_count": null,
      "outputs": [
        {
          "output_type": "execute_result",
          "data": {
            "text/plain": [
              "['don', 5.6, 99.0, 'sixface', 10]"
            ]
          },
          "metadata": {
            "tags": []
          },
          "execution_count": 6
        }
      ]
    },
    {
      "cell_type": "markdown",
      "metadata": {
        "id": "WqgIUpKIPr9-",
        "colab_type": "text"
      },
      "source": [
        "# Dictionary (default functions)"
      ]
    },
    {
      "cell_type": "code",
      "metadata": {
        "id": "XmDcXunnPr9_",
        "colab_type": "code",
        "colab": {},
        "outputId": "ef3aefbe-803e-4d25-bf3d-3312e8106310"
      },
      "source": [
        "mydic={\"door\":58,\"area\":\"Annanagar\",\"city\":\"Tirunelveli\"}\n",
        "mydic"
      ],
      "execution_count": null,
      "outputs": [
        {
          "output_type": "execute_result",
          "data": {
            "text/plain": [
              "{'door': 58, 'area': 'Annanagar', 'city': 'Tirunelveli'}"
            ]
          },
          "metadata": {
            "tags": []
          },
          "execution_count": 7
        }
      ]
    },
    {
      "cell_type": "code",
      "metadata": {
        "id": "giRaJMfvPr-C",
        "colab_type": "code",
        "colab": {},
        "outputId": "08ae35c4-da60-4627-c49a-7447378f4dbe"
      },
      "source": [
        "mydic.values()"
      ],
      "execution_count": null,
      "outputs": [
        {
          "output_type": "execute_result",
          "data": {
            "text/plain": [
              "dict_values([58, 'Annanagar', 'Tirunelveli'])"
            ]
          },
          "metadata": {
            "tags": []
          },
          "execution_count": 8
        }
      ]
    },
    {
      "cell_type": "code",
      "metadata": {
        "id": "FToQ6QnuPr-E",
        "colab_type": "code",
        "colab": {},
        "outputId": "3adfe3e4-3087-43a1-d171-679862a9bb48"
      },
      "source": [
        "era={\"street\":\"bharathiyar Street\",\"pin\":657925}\n",
        "mydic.update(era)\n",
        "mydic"
      ],
      "execution_count": null,
      "outputs": [
        {
          "output_type": "execute_result",
          "data": {
            "text/plain": [
              "{'door': 58,\n",
              " 'area': 'Annanagar',\n",
              " 'city': 'Tirunelveli',\n",
              " 'street': 'bharathiyar Street',\n",
              " 'pin': 657925}"
            ]
          },
          "metadata": {
            "tags": []
          },
          "execution_count": 9
        }
      ]
    },
    {
      "cell_type": "code",
      "metadata": {
        "id": "O3k9yoUyPr-H",
        "colab_type": "code",
        "colab": {},
        "outputId": "015cc15a-26bf-41a1-ee0f-cdb0e9f5bd26"
      },
      "source": [
        "mydic.popitem()\n",
        "mydic"
      ],
      "execution_count": null,
      "outputs": [
        {
          "output_type": "execute_result",
          "data": {
            "text/plain": [
              "{'door': 58,\n",
              " 'area': 'Annanagar',\n",
              " 'city': 'Tirunelveli',\n",
              " 'street': 'bharathiyar Street'}"
            ]
          },
          "metadata": {
            "tags": []
          },
          "execution_count": 10
        }
      ]
    },
    {
      "cell_type": "code",
      "metadata": {
        "id": "gfY0YGU6Pr-J",
        "colab_type": "code",
        "colab": {},
        "outputId": "2402534a-6d4c-4ba7-b0eb-e3e5ff38e47d"
      },
      "source": [
        "mydic.get(\"city\")"
      ],
      "execution_count": null,
      "outputs": [
        {
          "output_type": "execute_result",
          "data": {
            "text/plain": [
              "'Tirunelveli'"
            ]
          },
          "metadata": {
            "tags": []
          },
          "execution_count": 11
        }
      ]
    },
    {
      "cell_type": "markdown",
      "metadata": {
        "id": "TstM4drRPr-L",
        "colab_type": "text"
      },
      "source": [
        "# Tuple (default functions)"
      ]
    },
    {
      "cell_type": "code",
      "metadata": {
        "id": "9GguwnUuPr-M",
        "colab_type": "code",
        "colab": {},
        "outputId": "67b21673-812d-4529-cb66-c4fbd66b5899"
      },
      "source": [
        "sub=(\"sixface\",6,9.8,'a',6,90,6,456)\n",
        "sub.count(6)"
      ],
      "execution_count": null,
      "outputs": [
        {
          "output_type": "execute_result",
          "data": {
            "text/plain": [
              "3"
            ]
          },
          "metadata": {
            "tags": []
          },
          "execution_count": 12
        }
      ]
    },
    {
      "cell_type": "code",
      "metadata": {
        "id": "pvInCAUuPr-O",
        "colab_type": "code",
        "colab": {},
        "outputId": "7a76567a-3366-4244-f2d9-5bd872d47e11"
      },
      "source": [
        "sub.index(6)"
      ],
      "execution_count": null,
      "outputs": [
        {
          "output_type": "execute_result",
          "data": {
            "text/plain": [
              "1"
            ]
          },
          "metadata": {
            "tags": []
          },
          "execution_count": 13
        }
      ]
    },
    {
      "cell_type": "code",
      "metadata": {
        "id": "aa7SH-nhPr-R",
        "colab_type": "code",
        "colab": {},
        "outputId": "f9f4f8b7-66de-4fde-cc6f-239d724042dd"
      },
      "source": [
        "pup=(5.2,'s')\n",
        "sub=sub+pup\n",
        "sub"
      ],
      "execution_count": null,
      "outputs": [
        {
          "output_type": "execute_result",
          "data": {
            "text/plain": [
              "('sixface', 6, 9.8, 'a', 6, 90, 6, 456, 5.2, 's')"
            ]
          },
          "metadata": {
            "tags": []
          },
          "execution_count": 14
        }
      ]
    },
    {
      "cell_type": "code",
      "metadata": {
        "id": "tYj8d8bmPr-T",
        "colab_type": "code",
        "colab": {},
        "outputId": "55ac2ca0-14f2-4bde-e108-6107a84d2e0a"
      },
      "source": [
        "len(sub)"
      ],
      "execution_count": null,
      "outputs": [
        {
          "output_type": "execute_result",
          "data": {
            "text/plain": [
              "10"
            ]
          },
          "metadata": {
            "tags": []
          },
          "execution_count": 15
        }
      ]
    },
    {
      "cell_type": "code",
      "metadata": {
        "id": "SfH2eNuYPr-X",
        "colab_type": "code",
        "colab": {},
        "outputId": "1df86e8d-0d94-4c15-ae27-7a29ac141380"
      },
      "source": [
        "type(sub)"
      ],
      "execution_count": null,
      "outputs": [
        {
          "output_type": "execute_result",
          "data": {
            "text/plain": [
              "tuple"
            ]
          },
          "metadata": {
            "tags": []
          },
          "execution_count": 16
        }
      ]
    },
    {
      "cell_type": "markdown",
      "metadata": {
        "id": "uNhK0BH9Pr-a",
        "colab_type": "text"
      },
      "source": [
        "# Sets (default functions)"
      ]
    },
    {
      "cell_type": "code",
      "metadata": {
        "id": "-eCs_IpzPr-b",
        "colab_type": "code",
        "colab": {},
        "outputId": "a1b5f26f-70fd-4427-cdfc-376c663237b5"
      },
      "source": [
        "shree={\"varsha\",\"Tirunelveli\",6.6,'s',3,0.1}\n",
        "sms={\"hari\",\"intelligent\",29,6.6}\n",
        "x=shree.difference(sms)\n",
        "x"
      ],
      "execution_count": null,
      "outputs": [
        {
          "output_type": "execute_result",
          "data": {
            "text/plain": [
              "{0.1, 3, 'Tirunelveli', 's', 'varsha'}"
            ]
          },
          "metadata": {
            "tags": []
          },
          "execution_count": 17
        }
      ]
    },
    {
      "cell_type": "code",
      "metadata": {
        "id": "klfx-N7yPr-d",
        "colab_type": "code",
        "colab": {},
        "outputId": "7f24f188-c1a3-4c21-c5c0-019ebd401790"
      },
      "source": [
        "shree.discard(0.1)\n",
        "shree"
      ],
      "execution_count": null,
      "outputs": [
        {
          "output_type": "execute_result",
          "data": {
            "text/plain": [
              "{3, 6.6, 'Tirunelveli', 's', 'varsha'}"
            ]
          },
          "metadata": {
            "tags": []
          },
          "execution_count": 18
        }
      ]
    },
    {
      "cell_type": "code",
      "metadata": {
        "id": "VagGhqwiPr-g",
        "colab_type": "code",
        "colab": {},
        "outputId": "055d88d0-4b71-4df8-a9ec-84b97817adbe"
      },
      "source": [
        "shree.intersection(sms)"
      ],
      "execution_count": null,
      "outputs": [
        {
          "output_type": "execute_result",
          "data": {
            "text/plain": [
              "{6.6}"
            ]
          },
          "metadata": {
            "tags": []
          },
          "execution_count": 19
        }
      ]
    },
    {
      "cell_type": "code",
      "metadata": {
        "id": "iQhnaklcPr-j",
        "colab_type": "code",
        "colab": {},
        "outputId": "b4ab32aa-7eb8-41ee-a9d4-3afd54595e75"
      },
      "source": [
        "shree.isdisjoint(sms)"
      ],
      "execution_count": null,
      "outputs": [
        {
          "output_type": "execute_result",
          "data": {
            "text/plain": [
              "False"
            ]
          },
          "metadata": {
            "tags": []
          },
          "execution_count": 20
        }
      ]
    },
    {
      "cell_type": "code",
      "metadata": {
        "id": "bF80jnLPPr-l",
        "colab_type": "code",
        "colab": {},
        "outputId": "5bc5d353-2aa6-4324-fb09-3d02ee86bc6d"
      },
      "source": [
        "shree.issuperset(sms)"
      ],
      "execution_count": null,
      "outputs": [
        {
          "output_type": "execute_result",
          "data": {
            "text/plain": [
              "False"
            ]
          },
          "metadata": {
            "tags": []
          },
          "execution_count": 21
        }
      ]
    },
    {
      "cell_type": "code",
      "metadata": {
        "id": "0FXz6QDoPr-n",
        "colab_type": "code",
        "colab": {},
        "outputId": "415110cd-29aa-4b0c-c458-62a5212412f2"
      },
      "source": [
        "shree.symmetric_difference(sms)"
      ],
      "execution_count": null,
      "outputs": [
        {
          "output_type": "execute_result",
          "data": {
            "text/plain": [
              "{29, 3, 'Tirunelveli', 'hari', 'intelligent', 's', 'varsha'}"
            ]
          },
          "metadata": {
            "tags": []
          },
          "execution_count": 22
        }
      ]
    },
    {
      "cell_type": "code",
      "metadata": {
        "id": "Dsi6dJ-1Pr-p",
        "colab_type": "code",
        "colab": {},
        "outputId": "8bbb249c-d20f-4934-a6da-eb3cafdbb9fa"
      },
      "source": [
        "shree.difference_update(sms)\n",
        "shree"
      ],
      "execution_count": null,
      "outputs": [
        {
          "output_type": "execute_result",
          "data": {
            "text/plain": [
              "{3, 'Tirunelveli', 's', 'varsha'}"
            ]
          },
          "metadata": {
            "tags": []
          },
          "execution_count": 23
        }
      ]
    },
    {
      "cell_type": "code",
      "metadata": {
        "id": "gdcGBGgYPr-r",
        "colab_type": "code",
        "colab": {},
        "outputId": "bdf58669-ab18-4f22-fdc0-7e4fd2196697"
      },
      "source": [
        "sms.update('p')\n",
        "sms"
      ],
      "execution_count": null,
      "outputs": [
        {
          "output_type": "execute_result",
          "data": {
            "text/plain": [
              "{29, 6.6, 'hari', 'intelligent', 'p'}"
            ]
          },
          "metadata": {
            "tags": []
          },
          "execution_count": 24
        }
      ]
    },
    {
      "cell_type": "markdown",
      "metadata": {
        "id": "xPAW-24aPr-t",
        "colab_type": "text"
      },
      "source": [
        "# Strings (default functions)"
      ]
    },
    {
      "cell_type": "code",
      "metadata": {
        "id": "cJHRByiWPr-u",
        "colab_type": "code",
        "colab": {},
        "outputId": "e627fb43-1e96-40d3-b9d8-336e8f3ce840"
      },
      "source": [
        "na=\"hey Guys...Lets do Rock in Coding, Study Well Guys \"\n",
        "na.index(\"Rock\")"
      ],
      "execution_count": null,
      "outputs": [
        {
          "output_type": "execute_result",
          "data": {
            "text/plain": [
              "19"
            ]
          },
          "metadata": {
            "tags": []
          },
          "execution_count": 25
        }
      ]
    },
    {
      "cell_type": "code",
      "metadata": {
        "id": "QwzHVNtcPr-w",
        "colab_type": "code",
        "colab": {},
        "outputId": "c20e28e1-c802-468e-da9d-45232320ed85"
      },
      "source": [
        "na.casefold()"
      ],
      "execution_count": null,
      "outputs": [
        {
          "output_type": "execute_result",
          "data": {
            "text/plain": [
              "'hey guys...lets do rock in coding, study well guys '"
            ]
          },
          "metadata": {
            "tags": []
          },
          "execution_count": 26
        }
      ]
    },
    {
      "cell_type": "code",
      "metadata": {
        "id": "HA3EHEsJPr-y",
        "colab_type": "code",
        "colab": {},
        "outputId": "2264d402-cddf-419a-9a3e-4e5d0e197bf0"
      },
      "source": [
        "na.capitalize()"
      ],
      "execution_count": null,
      "outputs": [
        {
          "output_type": "execute_result",
          "data": {
            "text/plain": [
              "'Hey guys...lets do rock in coding, study well guys '"
            ]
          },
          "metadata": {
            "tags": []
          },
          "execution_count": 27
        }
      ]
    },
    {
      "cell_type": "code",
      "metadata": {
        "id": "EHvfE2wHPr-0",
        "colab_type": "code",
        "colab": {},
        "outputId": "60aede99-fc99-4350-868c-88b58f9ff6a7"
      },
      "source": [
        "na.center(1000)"
      ],
      "execution_count": null,
      "outputs": [
        {
          "output_type": "execute_result",
          "data": {
            "text/plain": [
              "'                                                                                                                                                                                                                                                                                                                                                                                                                                                                                          hey Guys...Lets do Rock in Coding, Study Well Guys                                                                                                                                                                                                                                                                                                                                                                                                                                                                                            '"
            ]
          },
          "metadata": {
            "tags": []
          },
          "execution_count": 28
        }
      ]
    },
    {
      "cell_type": "code",
      "metadata": {
        "id": "qbIKwdnFPr-2",
        "colab_type": "code",
        "colab": {},
        "outputId": "634e60d9-51f9-4e8e-e348-171df4cae83b"
      },
      "source": [
        "na.count(\"Guys\")"
      ],
      "execution_count": null,
      "outputs": [
        {
          "output_type": "execute_result",
          "data": {
            "text/plain": [
              "2"
            ]
          },
          "metadata": {
            "tags": []
          },
          "execution_count": 30
        }
      ]
    },
    {
      "cell_type": "code",
      "metadata": {
        "id": "oSvCjVXRPr-4",
        "colab_type": "code",
        "colab": {},
        "outputId": "a71b2c84-b0dd-4fbb-a3b4-e405f73cabc1"
      },
      "source": [
        "\",\".join(na)"
      ],
      "execution_count": null,
      "outputs": [
        {
          "output_type": "execute_result",
          "data": {
            "text/plain": [
              "'h,e,y, ,G,u,y,s,.,.,.,L,e,t,s, ,d,o, ,R,o,c,k, ,i,n, ,C,o,d,i,n,g,,, ,S,t,u,d,y, ,W,e,l,l, ,G,u,y,s, '"
            ]
          },
          "metadata": {
            "tags": []
          },
          "execution_count": 32
        }
      ]
    },
    {
      "cell_type": "code",
      "metadata": {
        "id": "PLqRs-vQPr-8",
        "colab_type": "code",
        "colab": {},
        "outputId": "38ab5bcd-8bd2-4969-e845-d74d5d9e770a"
      },
      "source": [
        "na.swapcase()"
      ],
      "execution_count": null,
      "outputs": [
        {
          "output_type": "execute_result",
          "data": {
            "text/plain": [
              "'HEY gUYS...lETS DO rOCK IN cODING, sTUDY wELL gUYS '"
            ]
          },
          "metadata": {
            "tags": []
          },
          "execution_count": 33
        }
      ]
    }
  ]
}