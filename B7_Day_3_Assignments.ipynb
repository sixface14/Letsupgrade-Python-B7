{
  "nbformat": 4,
  "nbformat_minor": 0,
  "metadata": {
    "kernelspec": {
      "display_name": "Python 3",
      "language": "python",
      "name": "python3"
    },
    "language_info": {
      "codemirror_mode": {
        "name": "ipython",
        "version": 3
      },
      "file_extension": ".py",
      "mimetype": "text/x-python",
      "name": "python",
      "nbconvert_exporter": "python",
      "pygments_lexer": "ipython3",
      "version": "3.8.3"
    },
    "colab": {
      "name": "B7 Day-3 Assignments.ipynb",
      "provenance": [],
      "include_colab_link": true
    }
  },
  "cells": [
    {
      "cell_type": "markdown",
      "metadata": {
        "id": "view-in-github",
        "colab_type": "text"
      },
      "source": [
        "<a href=\"https://colab.research.google.com/github/sixface14/Letsupgrade-Python-B7/blob/master/B7_Day_3_Assignments.ipynb\" target=\"_parent\"><img src=\"https://colab.research.google.com/assets/colab-badge.svg\" alt=\"Open In Colab\"/></a>"
      ]
    },
    {
      "cell_type": "markdown",
      "metadata": {
        "id": "lGxw7Qwatk6w",
        "colab_type": "text"
      },
      "source": [
        "# Day 3 Assignment 1\n",
        "\n",
        "## Conditions for pilot to land a plane"
      ]
    },
    {
      "cell_type": "code",
      "metadata": {
        "id": "p5YWo-Kjtk60",
        "colab_type": "code",
        "colab": {},
        "outputId": "34babd60-0b44-4de3-8bd9-b6f90afeced0"
      },
      "source": [
        "ft=int(input(\"Enter a feet:\"))\n",
        "if(ft==1000):\n",
        "    print(\"Safe to Land\")\n",
        "elif(ft>1000)and(ft<5000):\n",
        "    print(\"Come down to 1000ft\")\n",
        "else:\n",
        "    print(\"Turn Around and Try later\")\n"
      ],
      "execution_count": null,
      "outputs": [
        {
          "output_type": "stream",
          "text": [
            "Enter a feet:6000\n",
            "Turn Around and Try later\n"
          ],
          "name": "stdout"
        }
      ]
    },
    {
      "cell_type": "markdown",
      "metadata": {
        "id": "OtxxQJdrtk7I",
        "colab_type": "text"
      },
      "source": [
        "# Day 3 Assignment 2\n",
        "\n",
        "## Prime Numbers between 1-200 using for loop"
      ]
    },
    {
      "cell_type": "code",
      "metadata": {
        "id": "4ovvpJQ-tk7K",
        "colab_type": "code",
        "colab": {},
        "outputId": "c9ef755f-fe6f-46eb-c313-764ee1551a6c"
      },
      "source": [
        "for num in range(0,200):\n",
        "   if num > 1:  \n",
        "       for i in range(2,num):  \n",
        "           if (num % i) == 0:  \n",
        "               break  \n",
        "       else:  \n",
        "           print(num)  "
      ],
      "execution_count": null,
      "outputs": [
        {
          "output_type": "stream",
          "text": [
            "2\n",
            "3\n",
            "5\n",
            "7\n",
            "11\n",
            "13\n",
            "17\n",
            "19\n",
            "23\n",
            "29\n",
            "31\n",
            "37\n",
            "41\n",
            "43\n",
            "47\n",
            "53\n",
            "59\n",
            "61\n",
            "67\n",
            "71\n",
            "73\n",
            "79\n",
            "83\n",
            "89\n",
            "97\n",
            "101\n",
            "103\n",
            "107\n",
            "109\n",
            "113\n",
            "127\n",
            "131\n",
            "137\n",
            "139\n",
            "149\n",
            "151\n",
            "157\n",
            "163\n",
            "167\n",
            "173\n",
            "179\n",
            "181\n",
            "191\n",
            "193\n",
            "197\n",
            "199\n"
          ],
          "name": "stdout"
        }
      ]
    }
  ]
}